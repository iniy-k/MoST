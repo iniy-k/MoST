{
 "cells": [
  {
   "cell_type": "markdown",
   "id": "416b6698",
   "metadata": {},
   "source": [
    "# MoST: high-level scheduling tools"
   ]
  },
  {
   "cell_type": "code",
   "execution_count": 1,
   "id": "cbc20ad7",
   "metadata": {},
   "outputs": [],
   "source": [
    "import MoST.MoST_base as most\n",
    "import MoST.qast_utils.loopReader as lr\n",
    "import MoST.transforms.TilingSchedule as ts\n",
    "import MoST.transforms.ReorderingSchedule as rs"
   ]
  },
  {
   "cell_type": "markdown",
   "id": "20d7bf72",
   "metadata": {},
   "source": [
    "We start by generating a new kernel, here for SGEMM. This is actually the code the user writes:"
   ]
  },
  {
   "cell_type": "code",
   "execution_count": 2,
   "id": "6d7e2964",
   "metadata": {
    "scrolled": false
   },
   "outputs": [
    {
     "name": "stdout",
     "output_type": "stream",
     "text": [
      "def sgemm_full(N: size, M: size, K: size, C: f32[N, M] @ DRAM,\n",
      "               A: f32[N, K] @ DRAM, B: f32[K, M] @ DRAM):\n",
      "    for i in par(0, N):\n",
      "        for j in par(0, M):\n",
      "            for k in par(0, K):\n",
      "                C[i, j] += A[i, k] * B[k, j]\n",
      "\n"
     ]
    }
   ],
   "source": [
    "sg = lr.__debug_new_sgemm()\n",
    "print(sg)"
   ]
  },
  {
   "cell_type": "markdown",
   "id": "42f37b6d",
   "metadata": {},
   "source": [
    "The first thing we do is to lock this to a specific problem size:"
   ]
  },
  {
   "cell_type": "code",
   "execution_count": 3,
   "id": "e62e206a",
   "metadata": {},
   "outputs": [
    {
     "name": "stdout",
     "output_type": "stream",
     "text": [
      "def sgemm_full(C: f32[512, 512] @ DRAM, A: f32[512, 512] @ DRAM,\n",
      "               B: f32[512, 512] @ DRAM):\n",
      "    for i in par(0, 512):\n",
      "        for j in par(0, 512):\n",
      "            for k in par(0, 512):\n",
      "                C[i, j] += A[i, k] * B[k, j]\n",
      "\n"
     ]
    }
   ],
   "source": [
    "sg_const = sg.partial_eval(512, 512, 512)\n",
    "print(sg_const)"
   ]
  },
  {
   "cell_type": "markdown",
   "id": "8f60185c",
   "metadata": {},
   "source": [
    "We can generate specific transformations, for instance, tiling:"
   ]
  },
  {
   "cell_type": "code",
   "execution_count": 4,
   "id": "a67b4803",
   "metadata": {
    "scrolled": true
   },
   "outputs": [
    {
     "name": "stdout",
     "output_type": "stream",
     "text": [
      "def sgemm_full(C: f32[512, 512] @ DRAM, A: f32[512, 512] @ DRAM,\n",
      "               B: f32[512, 512] @ DRAM):\n",
      "    for i_out in par(0, 64):\n",
      "        for j_out in par(0, 32):\n",
      "            for k_out in par(0, 64):\n",
      "                for i_in in par(0, 8):\n",
      "                    for j_in in par(0, 16):\n",
      "                        for k_in in par(0, 8):\n",
      "                            C[8 * i_out + i_in, 16 * j_out +\n",
      "                              j_in] += A[8 * i_out + i_in, 8 * k_out +\n",
      "                                         k_in] * B[8 * k_out + k_in,\n",
      "                                                   16 * j_out + j_in]\n",
      "\n"
     ]
    }
   ],
   "source": [
    "tile_8_16_8 = ts.TilingSchedule({'i':8, 'j':16, 'k':8})\n",
    "# can run for sg or sg_const\n",
    "print(tile_8_16_8.apply(sg_const))"
   ]
  },
  {
   "cell_type": "markdown",
   "id": "72b52c06",
   "metadata": {},
   "source": [
    "... or reordering..."
   ]
  },
  {
   "cell_type": "code",
   "execution_count": 5,
   "id": "68814cb6",
   "metadata": {},
   "outputs": [
    {
     "name": "stdout",
     "output_type": "stream",
     "text": [
      "def sgemm_full(C: f32[512, 512] @ DRAM, A: f32[512, 512] @ DRAM,\n",
      "               B: f32[512, 512] @ DRAM):\n",
      "    for k in par(0, 512):\n",
      "        for i in par(0, 512):\n",
      "            for j in par(0, 512):\n",
      "                C[i, j] += A[i, k] * B[k, j]\n",
      "\n"
     ]
    }
   ],
   "source": [
    "reorder_kij = rs.ReorderingSchedule(['k', 'i', 'j'])\n",
    "print(reorder_kij.apply(sg_const))"
   ]
  },
  {
   "cell_type": "markdown",
   "id": "a292b474",
   "metadata": {},
   "source": [
    "These transforms can be combined to generate more complicated, higher-level transforms, e.g.:"
   ]
  },
  {
   "cell_type": "code",
   "execution_count": 6,
   "id": "ee89711a",
   "metadata": {
    "scrolled": false
   },
   "outputs": [
    {
     "name": "stdout",
     "output_type": "stream",
     "text": [
      "def sgemm_full(C: f32[512, 512] @ DRAM, A: f32[512, 512] @ DRAM,\n",
      "               B: f32[512, 512] @ DRAM):\n",
      "    for k_out in par(0, 64):\n",
      "        for i_out in par(0, 64):\n",
      "            for j_out in par(0, 32):\n",
      "                for k_in in par(0, 8):\n",
      "                    for i_in in par(0, 8):\n",
      "                        for j_in in par(0, 16):\n",
      "                            C[8 * i_out + i_in, 16 * j_out +\n",
      "                              j_in] += A[8 * i_out + i_in, 8 * k_out +\n",
      "                                         k_in] * B[8 * k_out + k_in,\n",
      "                                                   16 * j_out + j_in]\n",
      "\n"
     ]
    }
   ],
   "source": [
    "cs = most.CompoundSchedule([reorder_kij, tile_8_16_8])\n",
    "print(cs.apply(sg_const))"
   ]
  },
  {
   "cell_type": "markdown",
   "id": "29b08ddf",
   "metadata": {},
   "source": [
    "One could, also do multilevel tiling (CoSA style) as follows:"
   ]
  },
  {
   "cell_type": "code",
   "execution_count": 7,
   "id": "09ca4b47",
   "metadata": {},
   "outputs": [
    {
     "name": "stdout",
     "output_type": "stream",
     "text": [
      "def sgemm_full(C: f32[512, 512] @ DRAM, A: f32[512, 512] @ DRAM,\n",
      "               B: f32[512, 512] @ DRAM):\n",
      "    for i_out in par(0, 4):\n",
      "        for j_out in par(0, 4):\n",
      "            for k_out in par(0, 4):\n",
      "                for i_in_out in par(0, 16):\n",
      "                    for j_in_out in par(0, 8):\n",
      "                        for k_in_out in par(0, 16):\n",
      "                            for i_in_in in par(0, 8):\n",
      "                                for j_in_in in par(0, 16):\n",
      "                                    for k_in_in in par(0, 8):\n",
      "                                        C[128 * i_out +\n",
      "                                          (8 * i_in_out + i_in_in),\n",
      "                                          128 * j_out +\n",
      "                                          (16 * j_in_out + j_in_in)] += A[\n",
      "                                              128 * i_out +\n",
      "                                              (8 * i_in_out + i_in_in),\n",
      "                                              128 * k_out +\n",
      "                                              (8 * k_in_out + k_in_in)] * B[\n",
      "                                                  128 * k_out +\n",
      "                                                  (8 * k_in_out + k_in_in),\n",
      "                                                  128 * j_out +\n",
      "                                                  (16 * j_in_out + j_in_in)]\n",
      "\n"
     ]
    }
   ],
   "source": [
    "t1 = ts.TilingSchedule({'i':128, 'j':128, 'k':128})\n",
    "t2 = ts.TilingSchedule({'i_in':8, 'j_in':16, 'k_in':8})\n",
    "multilevel = most.CompoundSchedule([t1,t2])\n",
    "print(multilevel.apply(sg_const))"
   ]
  },
  {
   "cell_type": "markdown",
   "id": "d6ff06c8",
   "metadata": {},
   "source": [
    "These scheduling elements can be defined manually as above, or through static algorithms, such as this HBL thing here..."
   ]
  },
  {
   "cell_type": "code",
   "execution_count": 8,
   "id": "d4f408b7",
   "metadata": {
    "scrolled": true
   },
   "outputs": [
    {
     "name": "stdout",
     "output_type": "stream",
     "text": [
      "{'i': 16, 'j': 16, 'k': 16}\n",
      "def sgemm_full(C: f32[512, 512] @ DRAM, A: f32[512, 512] @ DRAM,\n",
      "               B: f32[512, 512] @ DRAM):\n",
      "    for i_out in par(0, 32):\n",
      "        for j_out in par(0, 32):\n",
      "            for k_out in par(0, 32):\n",
      "                for i_in in par(0, 16):\n",
      "                    for j_in in par(0, 16):\n",
      "                        for k_in in par(0, 16):\n",
      "                            C[16 * i_out + i_in, 16 * j_out +\n",
      "                              j_in] += A[16 * i_out + i_in, 16 * k_out +\n",
      "                                         k_in] * B[16 * k_out + k_in,\n",
      "                                                   16 * j_out + j_in]\n",
      "\n"
     ]
    }
   ],
   "source": [
    "memsize = 768\n",
    "bounds = lr.getFixedLoopBounds(sg_const)\n",
    "accesses = lr.getProjectiveDataAccesses(sg_const)\n",
    "opt_tile = ts.TilingSchedule.generateHBLProjectiveTile(bounds, accesses, memsize, False)\n",
    "print(opt_tile.apply(sg_const))"
   ]
  },
  {
   "cell_type": "markdown",
   "id": "8e0e362a",
   "metadata": {},
   "source": [
    "... or autotuning (in progress!)"
   ]
  },
  {
   "cell_type": "code",
   "execution_count": null,
   "id": "ada27995",
   "metadata": {},
   "outputs": [],
   "source": []
  }
 ],
 "metadata": {
  "kernelspec": {
   "display_name": "MoST_venv",
   "language": "python",
   "name": "most_venv"
  },
  "language_info": {
   "codemirror_mode": {
    "name": "ipython",
    "version": 3
   },
   "file_extension": ".py",
   "mimetype": "text/x-python",
   "name": "python",
   "nbconvert_exporter": "python",
   "pygments_lexer": "ipython3",
   "version": "3.9.7"
  }
 },
 "nbformat": 4,
 "nbformat_minor": 5
}
