{
 "cells": [
  {
   "cell_type": "markdown",
   "id": "416b6698",
   "metadata": {},
   "source": [
    "# MoST: high-level scheduling tools"
   ]
  },
  {
   "cell_type": "code",
   "execution_count": 13,
   "id": "cbc20ad7",
   "metadata": {},
   "outputs": [],
   "source": [
    "import MoST.MoST_base as most\n",
    "import MoST.qast_utils.loopReader as lr\n",
    "import MoST.transforms.TilingSchedule as ts\n",
    "import MoST.transforms.ReorderingSchedule as rs"
   ]
  },
  {
   "cell_type": "markdown",
   "id": "20d7bf72",
   "metadata": {},
   "source": [
    "We start by generating a new kernel, here for SGEMM. This is actually the code the user writes:"
   ]
  },
  {
   "cell_type": "code",
   "execution_count": 14,
   "id": "6d7e2964",
   "metadata": {
    "scrolled": false
   },
   "outputs": [
    {
     "name": "stdout",
     "output_type": "stream",
     "text": [
      "def sgemm_full(N: size, M: size, K: size, C: f32[N, M] @ DRAM,\n",
      "               A: f32[N, K] @ DRAM, B: f32[K, M] @ DRAM):\n",
      "    for i in par(0, N):\n",
      "        for j in par(0, M):\n",
      "            for k in par(0, K):\n",
      "                C[i, j] += A[i, k] * B[k, j]\n",
      "\n"
     ]
    }
   ],
   "source": [
    "sg = lr.__debug_new_sgemm()\n",
    "print(sg)"
   ]
  },
  {
   "cell_type": "markdown",
   "id": "42f37b6d",
   "metadata": {},
   "source": [
    "The first thing we do is to lock this to a specific problem size:"
   ]
  },
  {
   "cell_type": "code",
   "execution_count": 15,
   "id": "e62e206a",
   "metadata": {},
   "outputs": [
    {
     "name": "stdout",
     "output_type": "stream",
     "text": [
      "def sgemm_full(C: f32[512, 512] @ DRAM, A: f32[512, 512] @ DRAM,\n",
      "               B: f32[512, 512] @ DRAM):\n",
      "    for i in par(0, 512):\n",
      "        for j in par(0, 512):\n",
      "            for k in par(0, 512):\n",
      "                C[i, j] += A[i, k] * B[k, j]\n",
      "\n"
     ]
    }
   ],
   "source": [
    "sg_const = sg.partial_eval(512, 512, 512)\n",
    "print(sg_const)"
   ]
  },
  {
   "cell_type": "markdown",
   "id": "8f60185c",
   "metadata": {},
   "source": [
    "We can generate specific transformations, for instance, tiling:"
   ]
  },
  {
   "cell_type": "code",
   "execution_count": 16,
   "id": "a67b4803",
   "metadata": {
    "scrolled": true
   },
   "outputs": [
    {
     "name": "stdout",
     "output_type": "stream",
     "text": [
      "def sgemm_full(C: f32[512, 512] @ DRAM, A: f32[512, 512] @ DRAM,\n",
      "               B: f32[512, 512] @ DRAM):\n",
      "    for i_out in par(0, 64):\n",
      "        for j_out in par(0, 32):\n",
      "            for k_out in par(0, 64):\n",
      "                for i_in in par(0, 8):\n",
      "                    for j_in in par(0, 16):\n",
      "                        for k_in in par(0, 8):\n",
      "                            C[8 * i_out + i_in, 16 * j_out +\n",
      "                              j_in] += A[8 * i_out + i_in, 8 * k_out +\n",
      "                                         k_in] * B[8 * k_out + k_in,\n",
      "                                                   16 * j_out + j_in]\n",
      "\n"
     ]
    }
   ],
   "source": [
    "tile_8_16_8 = ts.TilingSchedule({'i':8, 'j':16, 'k':8})\n",
    "# can run for sg or sg_const\n",
    "print(tile_8_16_8.apply(sg_const))"
   ]
  },
  {
   "cell_type": "markdown",
   "id": "72b52c06",
   "metadata": {},
   "source": [
    "... or reordering..."
   ]
  },
  {
   "cell_type": "code",
   "execution_count": 17,
   "id": "68814cb6",
   "metadata": {},
   "outputs": [
    {
     "name": "stdout",
     "output_type": "stream",
     "text": [
      "def sgemm_full(C: f32[512, 512] @ DRAM, A: f32[512, 512] @ DRAM,\n",
      "               B: f32[512, 512] @ DRAM):\n",
      "    for k in par(0, 512):\n",
      "        for i in par(0, 512):\n",
      "            for j in par(0, 512):\n",
      "                C[i, j] += A[i, k] * B[k, j]\n",
      "\n"
     ]
    }
   ],
   "source": [
    "reorder_kij = rs.ReorderingSchedule(['k', 'i', 'j'])\n",
    "print(reorder_kij.apply(sg_const))"
   ]
  },
  {
   "cell_type": "markdown",
   "id": "a292b474",
   "metadata": {},
   "source": [
    "These transforms can be combined to generate more complicated, higher-level transforms, e.g.:"
   ]
  },
  {
   "cell_type": "code",
   "execution_count": 18,
   "id": "ee89711a",
   "metadata": {
    "scrolled": false
   },
   "outputs": [
    {
     "name": "stdout",
     "output_type": "stream",
     "text": [
      "def sgemm_full(C: f32[512, 512] @ DRAM, A: f32[512, 512] @ DRAM,\n",
      "               B: f32[512, 512] @ DRAM):\n",
      "    for k_out in par(0, 64):\n",
      "        for i_out in par(0, 64):\n",
      "            for j_out in par(0, 32):\n",
      "                for k_in in par(0, 8):\n",
      "                    for i_in in par(0, 8):\n",
      "                        for j_in in par(0, 16):\n",
      "                            C[8 * i_out + i_in, 16 * j_out +\n",
      "                              j_in] += A[8 * i_out + i_in, 8 * k_out +\n",
      "                                         k_in] * B[8 * k_out + k_in,\n",
      "                                                   16 * j_out + j_in]\n",
      "\n"
     ]
    }
   ],
   "source": [
    "cs = most.CompoundSchedule([reorder_kij, tile_8_16_8])\n",
    "print(cs.apply(sg_const))"
   ]
  },
  {
   "cell_type": "markdown",
   "id": "29b08ddf",
   "metadata": {},
   "source": [
    "One could, also do multilevel tiling (CoSA style) as follows:"
   ]
  },
  {
   "cell_type": "code",
   "execution_count": 19,
   "id": "09ca4b47",
   "metadata": {},
   "outputs": [
    {
     "name": "stdout",
     "output_type": "stream",
     "text": [
      "def sgemm_full(C: f32[512, 512] @ DRAM, A: f32[512, 512] @ DRAM,\n",
      "               B: f32[512, 512] @ DRAM):\n",
      "    for i_out in par(0, 4):\n",
      "        for j_out in par(0, 4):\n",
      "            for k_out in par(0, 4):\n",
      "                for i_in_out in par(0, 16):\n",
      "                    for j_in_out in par(0, 8):\n",
      "                        for k_in_out in par(0, 16):\n",
      "                            for i_in_in in par(0, 8):\n",
      "                                for j_in_in in par(0, 16):\n",
      "                                    for k_in_in in par(0, 8):\n",
      "                                        C[128 * i_out +\n",
      "                                          (8 * i_in_out + i_in_in),\n",
      "                                          128 * j_out +\n",
      "                                          (16 * j_in_out + j_in_in)] += A[\n",
      "                                              128 * i_out +\n",
      "                                              (8 * i_in_out + i_in_in),\n",
      "                                              128 * k_out +\n",
      "                                              (8 * k_in_out + k_in_in)] * B[\n",
      "                                                  128 * k_out +\n",
      "                                                  (8 * k_in_out + k_in_in),\n",
      "                                                  128 * j_out +\n",
      "                                                  (16 * j_in_out + j_in_in)]\n",
      "\n"
     ]
    }
   ],
   "source": [
    "t1 = ts.TilingSchedule({'i':128, 'j':128, 'k':128})\n",
    "t2 = ts.TilingSchedule({'i_in':8, 'j_in':16, 'k_in':8})\n",
    "multilevel = most.CompoundSchedule([t1,t2])\n",
    "print(multilevel.apply(sg_const))"
   ]
  },
  {
   "cell_type": "markdown",
   "id": "d6ff06c8",
   "metadata": {},
   "source": [
    "These scheduling elements can be defined manually as above, or through static algorithms, such as this HBL thing here..."
   ]
  },
  {
   "cell_type": "code",
   "execution_count": 20,
   "id": "d4f408b7",
   "metadata": {
    "scrolled": true
   },
   "outputs": [
    {
     "name": "stdout",
     "output_type": "stream",
     "text": [
      "{'i': 16, 'j': 16, 'k': 16}\n",
      "def sgemm_full(C: f32[512, 512] @ DRAM, A: f32[512, 512] @ DRAM,\n",
      "               B: f32[512, 512] @ DRAM):\n",
      "    for i_out in par(0, 32):\n",
      "        for j_out in par(0, 32):\n",
      "            for k_out in par(0, 32):\n",
      "                for i_in in par(0, 16):\n",
      "                    for j_in in par(0, 16):\n",
      "                        for k_in in par(0, 16):\n",
      "                            C[16 * i_out + i_in, 16 * j_out +\n",
      "                              j_in] += A[16 * i_out + i_in, 16 * k_out +\n",
      "                                         k_in] * B[16 * k_out + k_in,\n",
      "                                                   16 * j_out + j_in]\n",
      "\n"
     ]
    }
   ],
   "source": [
    "memsize = 768\n",
    "bounds = lr.getFixedLoopBounds(sg_const)\n",
    "accesses = lr.getProjectiveDataAccesses(sg_const)\n",
    "opt_tile = ts.TilingSchedule.generateHBLProjectiveTile(bounds, accesses, memsize, False)\n",
    "print(opt_tile.apply(sg_const))"
   ]
  },
  {
   "cell_type": "markdown",
   "id": "8e0e362a",
   "metadata": {},
   "source": [
    "... or autotuning (in progress!)"
   ]
  },
  {
   "cell_type": "markdown",
   "id": "969e77a3",
   "metadata": {},
   "source": [
    "The CoSASchedule element runs the cosa framework to determine optimal loop paramters and returns the object with the loop transformations applied"
   ]
  },
  {
   "cell_type": "code",
   "execution_count": 21,
   "id": "ada27995",
   "metadata": {},
   "outputs": [
    {
     "name": "stdout",
     "output_type": "stream",
     "text": [
      "Gurobi Optimizer version 9.5.1 build v9.5.1rc2 (linux64)\n"
     ]
    },
    {
     "name": "stderr",
     "output_type": "stream",
     "text": [
      "INFO:gurobipy.gurobipy:Gurobi Optimizer version 9.5.1 build v9.5.1rc2 (linux64)\n"
     ]
    },
    {
     "name": "stdout",
     "output_type": "stream",
     "text": [
      "Thread count: 16 physical cores, 32 logical processors, using up to 32 threads\n"
     ]
    },
    {
     "name": "stderr",
     "output_type": "stream",
     "text": [
      "INFO:gurobipy.gurobipy:Thread count: 16 physical cores, 32 logical processors, using up to 32 threads\n"
     ]
    },
    {
     "name": "stdout",
     "output_type": "stream",
     "text": [
      "Optimize a model with 761 rows, 1068 columns and 6835 nonzeros\n"
     ]
    },
    {
     "name": "stderr",
     "output_type": "stream",
     "text": [
      "INFO:gurobipy.gurobipy:Optimize a model with 761 rows, 1068 columns and 6835 nonzeros\n"
     ]
    },
    {
     "name": "stdout",
     "output_type": "stream",
     "text": [
      "Model fingerprint: 0x41abf6dd\n"
     ]
    },
    {
     "name": "stderr",
     "output_type": "stream",
     "text": [
      "INFO:gurobipy.gurobipy:Model fingerprint: 0x41abf6dd\n"
     ]
    },
    {
     "name": "stdout",
     "output_type": "stream",
     "text": [
      "Model has 1236 quadratic objective terms\n"
     ]
    },
    {
     "name": "stderr",
     "output_type": "stream",
     "text": [
      "INFO:gurobipy.gurobipy:Model has 1236 quadratic objective terms\n"
     ]
    },
    {
     "name": "stdout",
     "output_type": "stream",
     "text": [
      "Model has 4 quadratic constraints\n"
     ]
    },
    {
     "name": "stderr",
     "output_type": "stream",
     "text": [
      "INFO:gurobipy.gurobipy:Model has 4 quadratic constraints\n"
     ]
    },
    {
     "name": "stdout",
     "output_type": "stream",
     "text": [
      "Model has 1 general constraint\n"
     ]
    },
    {
     "name": "stderr",
     "output_type": "stream",
     "text": [
      "INFO:gurobipy.gurobipy:Model has 1 general constraint\n"
     ]
    },
    {
     "name": "stdout",
     "output_type": "stream",
     "text": [
      "Variable types: 6 continuous, 1062 integer (1000 binary)\n"
     ]
    },
    {
     "name": "stderr",
     "output_type": "stream",
     "text": [
      "INFO:gurobipy.gurobipy:Variable types: 6 continuous, 1062 integer (1000 binary)\n"
     ]
    },
    {
     "name": "stdout",
     "output_type": "stream",
     "text": [
      "Coefficient statistics:\n"
     ]
    },
    {
     "name": "stderr",
     "output_type": "stream",
     "text": [
      "INFO:gurobipy.gurobipy:Coefficient statistics:\n"
     ]
    },
    {
     "name": "stdout",
     "output_type": "stream",
     "text": [
      "  Matrix range     [1e+00, 4e+00]\n"
     ]
    },
    {
     "name": "stderr",
     "output_type": "stream",
     "text": [
      "INFO:gurobipy.gurobipy:  Matrix range     [1e+00, 4e+00]\n"
     ]
    },
    {
     "name": "stdout",
     "output_type": "stream",
     "text": [
      "  QMatrix range    [1e+00, 3e+00]\n"
     ]
    },
    {
     "name": "stderr",
     "output_type": "stream",
     "text": [
      "INFO:gurobipy.gurobipy:  QMatrix range    [1e+00, 3e+00]\n"
     ]
    },
    {
     "name": "stdout",
     "output_type": "stream",
     "text": [
      "  QLMatrix range   [1e+00, 8e+00]\n"
     ]
    },
    {
     "name": "stderr",
     "output_type": "stream",
     "text": [
      "INFO:gurobipy.gurobipy:  QLMatrix range   [1e+00, 8e+00]\n"
     ]
    },
    {
     "name": "stdout",
     "output_type": "stream",
     "text": [
      "  Objective range  [1e+00, 4e+01]\n"
     ]
    },
    {
     "name": "stderr",
     "output_type": "stream",
     "text": [
      "INFO:gurobipy.gurobipy:  Objective range  [1e+00, 4e+01]\n"
     ]
    },
    {
     "name": "stdout",
     "output_type": "stream",
     "text": [
      "  QObjective range [4e-01, 6e+00]\n"
     ]
    },
    {
     "name": "stderr",
     "output_type": "stream",
     "text": [
      "INFO:gurobipy.gurobipy:  QObjective range [4e-01, 6e+00]\n"
     ]
    },
    {
     "name": "stdout",
     "output_type": "stream",
     "text": [
      "  Bounds range     [1e+00, 1e+00]\n"
     ]
    },
    {
     "name": "stderr",
     "output_type": "stream",
     "text": [
      "INFO:gurobipy.gurobipy:  Bounds range     [1e+00, 1e+00]\n"
     ]
    },
    {
     "name": "stdout",
     "output_type": "stream",
     "text": [
      "  RHS range        [1e+00, 2e+01]\n"
     ]
    },
    {
     "name": "stderr",
     "output_type": "stream",
     "text": [
      "INFO:gurobipy.gurobipy:  RHS range        [1e+00, 2e+01]\n"
     ]
    },
    {
     "name": "stdout",
     "output_type": "stream",
     "text": [
      "  QRHS range       [1e+01, 1e+01]\n"
     ]
    },
    {
     "name": "stderr",
     "output_type": "stream",
     "text": [
      "INFO:gurobipy.gurobipy:  QRHS range       [1e+01, 1e+01]\n"
     ]
    },
    {
     "name": "stdout",
     "output_type": "stream",
     "text": [
      "Presolve removed 585 rows and 139 columns\n"
     ]
    },
    {
     "name": "stderr",
     "output_type": "stream",
     "text": [
      "INFO:gurobipy.gurobipy:Presolve removed 585 rows and 139 columns\n"
     ]
    },
    {
     "name": "stdout",
     "output_type": "stream",
     "text": [
      "Presolve time: 0.01s\n"
     ]
    },
    {
     "name": "stderr",
     "output_type": "stream",
     "text": [
      "INFO:gurobipy.gurobipy:Presolve time: 0.01s\n"
     ]
    },
    {
     "name": "stdout",
     "output_type": "stream",
     "text": [
      "Presolved: 3868 rows, 2159 columns, 13132 nonzeros\n"
     ]
    },
    {
     "name": "stderr",
     "output_type": "stream",
     "text": [
      "INFO:gurobipy.gurobipy:Presolved: 3868 rows, 2159 columns, 13132 nonzeros\n"
     ]
    },
    {
     "name": "stdout",
     "output_type": "stream",
     "text": [
      "Variable types: 2 continuous, 2157 integer (2156 binary)\n"
     ]
    },
    {
     "name": "stderr",
     "output_type": "stream",
     "text": [
      "INFO:gurobipy.gurobipy:Variable types: 2 continuous, 2157 integer (2156 binary)\n"
     ]
    },
    {
     "name": "stdout",
     "output_type": "stream",
     "text": [
      "Found heuristic solution: objective 268.6295123\n"
     ]
    },
    {
     "name": "stderr",
     "output_type": "stream",
     "text": [
      "INFO:gurobipy.gurobipy:Found heuristic solution: objective 268.6295123\n"
     ]
    },
    {
     "name": "stdout",
     "output_type": "stream",
     "text": [
      "\n"
     ]
    },
    {
     "name": "stderr",
     "output_type": "stream",
     "text": [
      "INFO:gurobipy.gurobipy:\n"
     ]
    },
    {
     "name": "stdout",
     "output_type": "stream",
     "text": [
      "Root relaxation: objective 2.199096e+02, 174 iterations, 0.00 seconds (0.00 work units)\n"
     ]
    },
    {
     "name": "stderr",
     "output_type": "stream",
     "text": [
      "INFO:gurobipy.gurobipy:Root relaxation: objective 2.199096e+02, 174 iterations, 0.00 seconds (0.00 work units)\n"
     ]
    },
    {
     "name": "stdout",
     "output_type": "stream",
     "text": [
      "\n"
     ]
    },
    {
     "name": "stderr",
     "output_type": "stream",
     "text": [
      "INFO:gurobipy.gurobipy:\n"
     ]
    },
    {
     "name": "stdout",
     "output_type": "stream",
     "text": [
      "    Nodes    |    Current Node    |     Objective Bounds      |     Work\n"
     ]
    },
    {
     "name": "stderr",
     "output_type": "stream",
     "text": [
      "INFO:gurobipy.gurobipy:    Nodes    |    Current Node    |     Objective Bounds      |     Work\n"
     ]
    },
    {
     "name": "stdout",
     "output_type": "stream",
     "text": [
      " Expl Unexpl |  Obj  Depth IntInf | Incumbent    BestBd   Gap | It/Node Time\n"
     ]
    },
    {
     "name": "stderr",
     "output_type": "stream",
     "text": [
      "INFO:gurobipy.gurobipy: Expl Unexpl |  Obj  Depth IntInf | Incumbent    BestBd   Gap | It/Node Time\n"
     ]
    },
    {
     "name": "stdout",
     "output_type": "stream",
     "text": [
      "\n"
     ]
    },
    {
     "name": "stderr",
     "output_type": "stream",
     "text": [
      "INFO:gurobipy.gurobipy:\n"
     ]
    },
    {
     "name": "stdout",
     "output_type": "stream",
     "text": [
      "     0     0  219.90961    0    6  268.62951  219.90961  18.1%     -    0s\n"
     ]
    },
    {
     "name": "stderr",
     "output_type": "stream",
     "text": [
      "INFO:gurobipy.gurobipy:     0     0  219.90961    0    6  268.62951  219.90961  18.1%     -    0s\n"
     ]
    },
    {
     "name": "stdout",
     "output_type": "stream",
     "text": [
      "H    0     0                     219.9896431  219.90961  0.04%     -    0s\n"
     ]
    },
    {
     "name": "stderr",
     "output_type": "stream",
     "text": [
      "INFO:gurobipy.gurobipy:H    0     0                     219.9896431  219.90961  0.04%     -    0s\n"
     ]
    },
    {
     "name": "stdout",
     "output_type": "stream",
     "text": [
      "*    0     0               0     219.9703786  219.97038  0.00%     -    0s\n"
     ]
    },
    {
     "name": "stderr",
     "output_type": "stream",
     "text": [
      "INFO:gurobipy.gurobipy:*    0     0               0     219.9703786  219.97038  0.00%     -    0s\n"
     ]
    },
    {
     "name": "stdout",
     "output_type": "stream",
     "text": [
      "\n"
     ]
    },
    {
     "name": "stderr",
     "output_type": "stream",
     "text": [
      "INFO:gurobipy.gurobipy:\n"
     ]
    },
    {
     "name": "stdout",
     "output_type": "stream",
     "text": [
      "Cutting planes:\n"
     ]
    },
    {
     "name": "stderr",
     "output_type": "stream",
     "text": [
      "INFO:gurobipy.gurobipy:Cutting planes:\n"
     ]
    },
    {
     "name": "stdout",
     "output_type": "stream",
     "text": [
      "  Gomory: 1\n"
     ]
    },
    {
     "name": "stderr",
     "output_type": "stream",
     "text": [
      "INFO:gurobipy.gurobipy:  Gomory: 1\n"
     ]
    },
    {
     "name": "stdout",
     "output_type": "stream",
     "text": [
      "  Cover: 1\n"
     ]
    },
    {
     "name": "stderr",
     "output_type": "stream",
     "text": [
      "INFO:gurobipy.gurobipy:  Cover: 1\n"
     ]
    },
    {
     "name": "stdout",
     "output_type": "stream",
     "text": [
      "  MIR: 2\n"
     ]
    },
    {
     "name": "stderr",
     "output_type": "stream",
     "text": [
      "INFO:gurobipy.gurobipy:  MIR: 2\n"
     ]
    },
    {
     "name": "stdout",
     "output_type": "stream",
     "text": [
      "  StrongCG: 1\n"
     ]
    },
    {
     "name": "stderr",
     "output_type": "stream",
     "text": [
      "INFO:gurobipy.gurobipy:  StrongCG: 1\n"
     ]
    },
    {
     "name": "stdout",
     "output_type": "stream",
     "text": [
      "\n"
     ]
    },
    {
     "name": "stderr",
     "output_type": "stream",
     "text": [
      "INFO:gurobipy.gurobipy:\n"
     ]
    },
    {
     "name": "stdout",
     "output_type": "stream",
     "text": [
      "Explored 1 nodes (187 simplex iterations) in 0.16 seconds (0.06 work units)\n"
     ]
    },
    {
     "name": "stderr",
     "output_type": "stream",
     "text": [
      "INFO:gurobipy.gurobipy:Explored 1 nodes (187 simplex iterations) in 0.16 seconds (0.06 work units)\n"
     ]
    },
    {
     "name": "stdout",
     "output_type": "stream",
     "text": [
      "Thread count was 32 (of 32 available processors)\n"
     ]
    },
    {
     "name": "stderr",
     "output_type": "stream",
     "text": [
      "INFO:gurobipy.gurobipy:Thread count was 32 (of 32 available processors)\n"
     ]
    },
    {
     "name": "stdout",
     "output_type": "stream",
     "text": [
      "\n"
     ]
    },
    {
     "name": "stderr",
     "output_type": "stream",
     "text": [
      "INFO:gurobipy.gurobipy:\n"
     ]
    },
    {
     "name": "stdout",
     "output_type": "stream",
     "text": [
      "Solution count 3: 219.97 219.99 268.63 \n"
     ]
    },
    {
     "name": "stderr",
     "output_type": "stream",
     "text": [
      "INFO:gurobipy.gurobipy:Solution count 3: 219.97 219.99 268.63 \n"
     ]
    },
    {
     "name": "stdout",
     "output_type": "stream",
     "text": [
      "\n"
     ]
    },
    {
     "name": "stderr",
     "output_type": "stream",
     "text": [
      "INFO:gurobipy.gurobipy:\n"
     ]
    },
    {
     "name": "stdout",
     "output_type": "stream",
     "text": [
      "Optimal solution found (tolerance 1.00e-04)\n"
     ]
    },
    {
     "name": "stderr",
     "output_type": "stream",
     "text": [
      "INFO:gurobipy.gurobipy:Optimal solution found (tolerance 1.00e-04)\n"
     ]
    },
    {
     "name": "stdout",
     "output_type": "stream",
     "text": [
      "Best objective 2.199703785977e+02, best bound 2.199703785977e+02, gap 0.0000%\n"
     ]
    },
    {
     "name": "stderr",
     "output_type": "stream",
     "text": [
      "INFO:gurobipy.gurobipy:Best objective 2.199703785977e+02, best bound 2.199703785977e+02, gap 0.0000%\n"
     ]
    }
   ],
   "source": [
    "import MoST.transforms.CoSASchedule as cs\n",
    "import MoST.qast_utils.loopReader as lr\n",
    "sg = lr.__debug_new_sgemm2()\n",
    "sg = sg.partial_eval(7,7,112,112,3,64,1)\n",
    "\n",
    "\n",
    "y = cs.CoSASchedule(\"#input params\",sg).run_cosa()\n",
    "obj = y.apply()"
   ]
  },
  {
   "cell_type": "code",
   "execution_count": 22,
   "id": "11d7e174",
   "metadata": {},
   "outputs": [
    {
     "name": "stdout",
     "output_type": "stream",
     "text": [
      "def sgemm_full(X: f32[7, 7] @ DRAM, A: f32[7, 112] @ DRAM,\n",
      "               B: f32[112, 7] @ DRAM):\n",
      "    for i in par(0, 7):\n",
      "        for j in par(0, 7):\n",
      "            for k_out_out_out_out in par(0, 7):\n",
      "                for l_out_out_out_out in par(0, 7):\n",
      "                    for m in par(0, 3):\n",
      "                        for n_out_out_out_out_out in par(0, 2):\n",
      "                            for o in par(0, 1):\n",
      "                                for k_in in par(0, 2):\n",
      "                                    for l_in in par(0, 2):\n",
      "                                        for n_in in par(0, 2):\n",
      "                                            for k_out_in in par(0, 2):\n",
      "                                                for l_out_in in par(0, 2):\n",
      "                                                    for n_out_in in par(0, 2):\n",
      "                                                        for k_out_out_in in par(\n",
      "                                                                0, 2):\n",
      "                                                            for l_out_out_in in par(\n",
      "                                                                    0, 2):\n",
      "                                                                for n_out_out_in in par(\n",
      "                                                                        0, 2):\n",
      "                                                                    for k_out_out_out_in in par(\n",
      "                                                                            0,\n",
      "                                                                            2):\n",
      "                                                                        for l_out_out_out_in in par(\n",
      "                                                                                0,\n",
      "                                                                                2\n",
      "                                                                        ):\n",
      "                                                                            for n_out_out_out_in in par(\n",
      "                                                                                    0,\n",
      "                                                                                    2\n",
      "                                                                            ):\n",
      "                                                                                for n_out_out_out_out_in in par(\n",
      "                                                                                        0,\n",
      "                                                                                        2\n",
      "                                                                                ):\n",
      "                                                                                    X[i, j] += A[\n",
      "                                                                                        i,\n",
      "                                                                                        2\n",
      "                                                                                        *\n",
      "                                                                                        (2 *\n",
      "                                                                                         (2 *\n",
      "                                                                                          (2 *\n",
      "                                                                                           k_out_out_out_out\n",
      "                                                                                           + k_out_out_out_in\n",
      "                                                                                           )\n",
      "                                                                                          +\n",
      "                                                                                          k_out_out_in\n",
      "                                                                                          )\n",
      "                                                                                         +\n",
      "                                                                                         k_out_in\n",
      "                                                                                         )\n",
      "                                                                                        +\n",
      "                                                                                        k_in] * B[\n",
      "                                                                                            2\n",
      "                                                                                            *\n",
      "                                                                                            (2 *\n",
      "                                                                                             (2 *\n",
      "                                                                                              (2 *\n",
      "                                                                                               k_out_out_out_out\n",
      "                                                                                               + k_out_out_out_in\n",
      "                                                                                               )\n",
      "                                                                                              +\n",
      "                                                                                              k_out_out_in\n",
      "                                                                                              )\n",
      "                                                                                             +\n",
      "                                                                                             k_out_in\n",
      "                                                                                             )\n",
      "                                                                                            + k_in,\n",
      "                                                                                            j]\n",
      "\n"
     ]
    }
   ],
   "source": [
    "print(obj)"
   ]
  },
  {
   "cell_type": "code",
   "execution_count": null,
   "id": "81d1f397",
   "metadata": {},
   "outputs": [],
   "source": []
  }
 ],
 "metadata": {
  "kernelspec": {
   "display_name": "MoST_venv",
   "language": "python",
   "name": "most_venv"
  },
  "language_info": {
   "codemirror_mode": {
    "name": "ipython",
    "version": 3
   },
   "file_extension": ".py",
   "mimetype": "text/x-python",
   "name": "python",
   "nbconvert_exporter": "python",
   "pygments_lexer": "ipython3",
   "version": "3.9.7"
  }
 },
 "nbformat": 4,
 "nbformat_minor": 5
}
