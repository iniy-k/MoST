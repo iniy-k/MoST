{
 "cells": [
  {
   "cell_type": "markdown",
   "id": "416b6698",
   "metadata": {},
   "source": [
    "# MoST: high-level scheduling tools"
   ]
  },
  {
   "cell_type": "code",
   "execution_count": 1,
   "id": "cbc20ad7",
   "metadata": {},
   "outputs": [],
   "source": [
    "import src.matmap.base as most\n",
    "import src.matmap.qast_utils.loopReader as lr\n",
    "import src.matmap.transforms.TilingTransform as ts\n",
    "import src.matmap.transforms.ReorderingTransform as rs"
   ]
  },
  {
   "cell_type": "markdown",
   "id": "20d7bf72",
   "metadata": {},
   "source": [
    "We start by generating a new kernel, here for SGEMM. This is actually the code the user writes:"
   ]
  },
  {
   "cell_type": "code",
   "execution_count": 3,
   "id": "6d7e2964",
   "metadata": {
    "scrolled": false
   },
   "outputs": [
    {
     "name": "stdout",
     "output_type": "stream",
     "text": [
      "def sgemm_full(N: size, M: size, K: size, C: f32[N, M] @ DRAM,\n",
      "               A: f32[N, K] @ DRAM, B: f32[K, M] @ DRAM):\n",
      "    for i in par(0, N):\n",
      "        for j in par(0, M):\n",
      "            for k in par(0, K):\n",
      "                C[i, j] += A[i, k] * B[k, j]\n",
      "\n"
     ]
    }
   ],
   "source": [
    "sg = lr.__debug_new_sgemm()\n",
    "print(sg)"
   ]
  },
  {
   "cell_type": "markdown",
   "id": "42f37b6d",
   "metadata": {},
   "source": [
    "The first thing we do is to lock this to a specific problem size:"
   ]
  },
  {
   "cell_type": "code",
   "execution_count": 4,
   "id": "e62e206a",
   "metadata": {},
   "outputs": [
    {
     "name": "stdout",
     "output_type": "stream",
     "text": [
      "def sgemm_full(C: f32[512, 512] @ DRAM, A: f32[512, 512] @ DRAM,\n",
      "               B: f32[512, 512] @ DRAM):\n",
      "    for i in par(0, 512):\n",
      "        for j in par(0, 512):\n",
      "            for k in par(0, 512):\n",
      "                C[i, j] += A[i, k] * B[k, j]\n",
      "\n"
     ]
    }
   ],
   "source": [
    "sg_const = sg.partial_eval(512, 512, 512)\n",
    "print(sg_const)"
   ]
  },
  {
   "cell_type": "markdown",
   "id": "8f60185c",
   "metadata": {},
   "source": [
    "We can generate specific transformations, for instance, tiling:"
   ]
  },
  {
   "cell_type": "code",
   "execution_count": 5,
   "id": "a67b4803",
   "metadata": {
    "scrolled": true
   },
   "outputs": [
    {
     "name": "stdout",
     "output_type": "stream",
     "text": [
      "def sgemm_full(C: f32[512, 512] @ DRAM, A: f32[512, 512] @ DRAM,\n",
      "               B: f32[512, 512] @ DRAM):\n",
      "    for io in par(0, 64):\n",
      "        for jo in par(0, 32):\n",
      "            for ko in par(0, 64):\n",
      "                for ii in par(0, 8):\n",
      "                    for ji in par(0, 16):\n",
      "                        for ki in par(0, 8):\n",
      "                            C[8 * io + ii, 16 * jo +\n",
      "                              ji] += A[8 * io + ii, 8 * ko +\n",
      "                                       ki] * B[8 * ko + ki, 16 * jo + ji]\n",
      "\n"
     ]
    }
   ],
   "source": [
    "tile_8_16_8 = ts.TilingTransform({'i':8, 'j':16, 'k':8})\n",
    "# can run for sg or sg_const\n",
    "print(tile_8_16_8.apply(sg_const))"
   ]
  },
  {
   "cell_type": "markdown",
   "id": "72b52c06",
   "metadata": {},
   "source": [
    "... or reordering..."
   ]
  },
  {
   "cell_type": "code",
   "execution_count": 6,
   "id": "68814cb6",
   "metadata": {},
   "outputs": [
    {
     "name": "stdout",
     "output_type": "stream",
     "text": [
      "def sgemm_full(C: f32[512, 512] @ DRAM, A: f32[512, 512] @ DRAM,\n",
      "               B: f32[512, 512] @ DRAM):\n",
      "    for k in par(0, 512):\n",
      "        for i in par(0, 512):\n",
      "            for j in par(0, 512):\n",
      "                C[i, j] += A[i, k] * B[k, j]\n",
      "\n"
     ]
    }
   ],
   "source": [
    "reorder_kij = rs.ReorderingTransform(['k', 'i', 'j'])\n",
    "print(reorder_kij.apply(sg_const))"
   ]
  },
  {
   "cell_type": "markdown",
   "id": "a292b474",
   "metadata": {},
   "source": [
    "These transforms can be combined to generate more complicated, higher-level transforms, e.g.:"
   ]
  },
  {
   "cell_type": "code",
   "execution_count": 9,
   "id": "ee89711a",
   "metadata": {
    "scrolled": false
   },
   "outputs": [
    {
     "ename": "AssertionError",
     "evalue": "Non-MoSTSchedule argument passed into CompoundSchedule",
     "output_type": "error",
     "traceback": [
      "\u001b[0;31m---------------------------------------------------------------------------\u001b[0m",
      "\u001b[0;31mAssertionError\u001b[0m                            Traceback (most recent call last)",
      "Input \u001b[0;32mIn [9]\u001b[0m, in \u001b[0;36m<cell line: 1>\u001b[0;34m()\u001b[0m\n\u001b[0;32m----> 1\u001b[0m cs \u001b[38;5;241m=\u001b[39m \u001b[43mmost\u001b[49m\u001b[38;5;241;43m.\u001b[39;49m\u001b[43mCompoundTransform\u001b[49m\u001b[43m(\u001b[49m\u001b[43m[\u001b[49m\u001b[43mreorder_kij\u001b[49m\u001b[43m,\u001b[49m\u001b[43m \u001b[49m\u001b[43mtile_8_16_8\u001b[49m\u001b[43m]\u001b[49m\u001b[43m)\u001b[49m\n\u001b[1;32m      2\u001b[0m \u001b[38;5;28mprint\u001b[39m(cs\u001b[38;5;241m.\u001b[39mapply(sg_const))\n",
      "File \u001b[0;32m~/MoST/src/matmap/base.py:77\u001b[0m, in \u001b[0;36mCompoundTransform.__init__\u001b[0;34m(self, schedule_list, flattenWhenComposed)\u001b[0m\n\u001b[1;32m     75\u001b[0m \u001b[38;5;28mself\u001b[39m\u001b[38;5;241m.\u001b[39mflattenWhenComposed \u001b[38;5;241m=\u001b[39m flattenWhenComposed\n\u001b[1;32m     76\u001b[0m \u001b[38;5;28;01mfor\u001b[39;00m subsched \u001b[38;5;129;01min\u001b[39;00m schedule_list:\n\u001b[0;32m---> 77\u001b[0m     \u001b[38;5;28;01massert\u001b[39;00m \u001b[38;5;28misinstance\u001b[39m(subsched, Transform), \u001b[38;5;124m\"\u001b[39m\u001b[38;5;124mNon-MoSTSchedule argument passed into CompoundSchedule\u001b[39m\u001b[38;5;124m\"\u001b[39m\n\u001b[1;32m     78\u001b[0m     \u001b[38;5;28;01mif\u001b[39;00m \u001b[38;5;28misinstance\u001b[39m(subsched, CompoundTransform) \u001b[38;5;129;01mand\u001b[39;00m subsched\u001b[38;5;241m.\u001b[39mflattenWhenComposed:\n\u001b[1;32m     79\u001b[0m         \u001b[38;5;28mself\u001b[39m\u001b[38;5;241m.\u001b[39msubschedules\u001b[38;5;241m.\u001b[39mextend(subsched\u001b[38;5;241m.\u001b[39msubschedules)\n",
      "\u001b[0;31mAssertionError\u001b[0m: Non-MoSTSchedule argument passed into CompoundSchedule"
     ]
    }
   ],
   "source": [
    "cs = most.CompoundTransform([reorder_kij, tile_8_16_8])\n",
    "print(cs.apply(sg_const))"
   ]
  },
  {
   "cell_type": "markdown",
   "id": "29b08ddf",
   "metadata": {},
   "source": [
    "One could, also do multilevel tiling (CoSA style) as follows:"
   ]
  },
  {
   "cell_type": "code",
   "execution_count": 10,
   "id": "09ca4b47",
   "metadata": {},
   "outputs": [
    {
     "ename": "AssertionError",
     "evalue": "Non-MoSTSchedule argument passed into CompoundSchedule",
     "output_type": "error",
     "traceback": [
      "\u001b[0;31m---------------------------------------------------------------------------\u001b[0m",
      "\u001b[0;31mAssertionError\u001b[0m                            Traceback (most recent call last)",
      "Input \u001b[0;32mIn [10]\u001b[0m, in \u001b[0;36m<cell line: 3>\u001b[0;34m()\u001b[0m\n\u001b[1;32m      1\u001b[0m t1 \u001b[38;5;241m=\u001b[39m ts\u001b[38;5;241m.\u001b[39mTilingTransform({\u001b[38;5;124m'\u001b[39m\u001b[38;5;124mi\u001b[39m\u001b[38;5;124m'\u001b[39m:\u001b[38;5;241m128\u001b[39m, \u001b[38;5;124m'\u001b[39m\u001b[38;5;124mj\u001b[39m\u001b[38;5;124m'\u001b[39m:\u001b[38;5;241m128\u001b[39m, \u001b[38;5;124m'\u001b[39m\u001b[38;5;124mk\u001b[39m\u001b[38;5;124m'\u001b[39m:\u001b[38;5;241m128\u001b[39m})\n\u001b[1;32m      2\u001b[0m t2 \u001b[38;5;241m=\u001b[39m ts\u001b[38;5;241m.\u001b[39mTilingTransform({\u001b[38;5;124m'\u001b[39m\u001b[38;5;124mi_in\u001b[39m\u001b[38;5;124m'\u001b[39m:\u001b[38;5;241m8\u001b[39m, \u001b[38;5;124m'\u001b[39m\u001b[38;5;124mj_in\u001b[39m\u001b[38;5;124m'\u001b[39m:\u001b[38;5;241m16\u001b[39m, \u001b[38;5;124m'\u001b[39m\u001b[38;5;124mk_in\u001b[39m\u001b[38;5;124m'\u001b[39m:\u001b[38;5;241m8\u001b[39m})\n\u001b[0;32m----> 3\u001b[0m multilevel \u001b[38;5;241m=\u001b[39m \u001b[43mmost\u001b[49m\u001b[38;5;241;43m.\u001b[39;49m\u001b[43mCompoundTransform\u001b[49m\u001b[43m(\u001b[49m\u001b[43m[\u001b[49m\u001b[43mt1\u001b[49m\u001b[43m,\u001b[49m\u001b[43mt2\u001b[49m\u001b[43m]\u001b[49m\u001b[43m)\u001b[49m\n\u001b[1;32m      4\u001b[0m \u001b[38;5;28mprint\u001b[39m(multilevel\u001b[38;5;241m.\u001b[39mapply(sg_const))\n",
      "File \u001b[0;32m~/MoST/src/matmap/base.py:77\u001b[0m, in \u001b[0;36mCompoundTransform.__init__\u001b[0;34m(self, schedule_list, flattenWhenComposed)\u001b[0m\n\u001b[1;32m     75\u001b[0m \u001b[38;5;28mself\u001b[39m\u001b[38;5;241m.\u001b[39mflattenWhenComposed \u001b[38;5;241m=\u001b[39m flattenWhenComposed\n\u001b[1;32m     76\u001b[0m \u001b[38;5;28;01mfor\u001b[39;00m subsched \u001b[38;5;129;01min\u001b[39;00m schedule_list:\n\u001b[0;32m---> 77\u001b[0m     \u001b[38;5;28;01massert\u001b[39;00m \u001b[38;5;28misinstance\u001b[39m(subsched, Transform), \u001b[38;5;124m\"\u001b[39m\u001b[38;5;124mNon-MoSTSchedule argument passed into CompoundSchedule\u001b[39m\u001b[38;5;124m\"\u001b[39m\n\u001b[1;32m     78\u001b[0m     \u001b[38;5;28;01mif\u001b[39;00m \u001b[38;5;28misinstance\u001b[39m(subsched, CompoundTransform) \u001b[38;5;129;01mand\u001b[39;00m subsched\u001b[38;5;241m.\u001b[39mflattenWhenComposed:\n\u001b[1;32m     79\u001b[0m         \u001b[38;5;28mself\u001b[39m\u001b[38;5;241m.\u001b[39msubschedules\u001b[38;5;241m.\u001b[39mextend(subsched\u001b[38;5;241m.\u001b[39msubschedules)\n",
      "\u001b[0;31mAssertionError\u001b[0m: Non-MoSTSchedule argument passed into CompoundSchedule"
     ]
    }
   ],
   "source": [
    "t1 = ts.TilingTransform({'i':128, 'j':128, 'k':128})\n",
    "t2 = ts.TilingTransform({'i_in':8, 'j_in':16, 'k_in':8})\n",
    "multilevel = most.CompoundTransform([t1,t2])\n",
    "print(multilevel.apply(sg_const))"
   ]
  },
  {
   "cell_type": "markdown",
   "id": "d6ff06c8",
   "metadata": {},
   "source": [
    "These scheduling elements can be defined manually as above, or through static algorithms, such as this HBL thing here..."
   ]
  },
  {
   "cell_type": "code",
   "execution_count": 11,
   "id": "d4f408b7",
   "metadata": {
    "scrolled": true
   },
   "outputs": [
    {
     "name": "stdout",
     "output_type": "stream",
     "text": [
      "{'i': 16, 'j': 16, 'k': 16}\n",
      "def sgemm_full(C: f32[512, 512] @ DRAM, A: f32[512, 512] @ DRAM,\n",
      "               B: f32[512, 512] @ DRAM):\n",
      "    for io in par(0, 32):\n",
      "        for jo in par(0, 32):\n",
      "            for ko in par(0, 32):\n",
      "                for ii in par(0, 16):\n",
      "                    for ji in par(0, 16):\n",
      "                        for ki in par(0, 16):\n",
      "                            C[16 * io + ii, 16 * jo +\n",
      "                              ji] += A[16 * io + ii, 16 * ko +\n",
      "                                       ki] * B[16 * ko + ki, 16 * jo + ji]\n",
      "\n"
     ]
    }
   ],
   "source": [
    "memsize = 768\n",
    "bounds = lr.getFixedLoopBounds(sg_const)\n",
    "accesses = lr.getProjectiveDataAccesses(sg_const)\n",
    "opt_tile = ts.TilingTransform.generateHBLProjectiveTile(bounds, accesses, memsize, False)\n",
    "print(opt_tile.apply(sg_const))"
   ]
  },
  {
   "cell_type": "markdown",
   "id": "8e0e362a",
   "metadata": {},
   "source": [
    "... or autotuning (in progress!)"
   ]
  },
  {
   "cell_type": "markdown",
   "id": "969e77a3",
   "metadata": {},
   "source": [
    "The CoSASchedule element runs the cosa framework to determine optimal loop paramters and returns the object with the loop transformations applied"
   ]
  },
  {
   "cell_type": "code",
   "execution_count": 1,
   "id": "ada27995",
   "metadata": {},
   "outputs": [
    {
     "name": "stdout",
     "output_type": "stream",
     "text": [
      "def sgemm_full(X: f32[7, 7] @ DRAM, A: f32[7, 112] @ DRAM,\n",
      "               B: f32[112, 7] @ DRAM):\n",
      "    for i in par(0, 7):\n",
      "        for j in par(0, 7):\n",
      "            for k in par(0, 112):\n",
      "                for l in par(0, 112):\n",
      "                    for m in par(0, 3):\n",
      "                        for n in par(0, 64):\n",
      "                            for o in par(0, 1):\n",
      "                                X[i, j] += A[i, k] * B[k, j]\n",
      "\n",
      "Set parameter Username\n"
     ]
    },
    {
     "name": "stderr",
     "output_type": "stream",
     "text": [
      "INFO:gurobipy.gurobipy:Set parameter Username\n"
     ]
    },
    {
     "name": "stdout",
     "output_type": "stream",
     "text": [
      "Academic license - for non-commercial use only - expires 2023-01-01\n"
     ]
    },
    {
     "name": "stderr",
     "output_type": "stream",
     "text": [
      "INFO:gurobipy.gurobipy:Academic license - for non-commercial use only - expires 2023-01-01\n"
     ]
    },
    {
     "name": "stdout",
     "output_type": "stream",
     "text": [
      "Gurobi Optimizer version 9.5.1 build v9.5.1rc2 (linux64)\n"
     ]
    },
    {
     "name": "stderr",
     "output_type": "stream",
     "text": [
      "INFO:gurobipy.gurobipy:Gurobi Optimizer version 9.5.1 build v9.5.1rc2 (linux64)\n"
     ]
    },
    {
     "name": "stdout",
     "output_type": "stream",
     "text": [
      "Thread count: 16 physical cores, 32 logical processors, using up to 32 threads\n"
     ]
    },
    {
     "name": "stderr",
     "output_type": "stream",
     "text": [
      "INFO:gurobipy.gurobipy:Thread count: 16 physical cores, 32 logical processors, using up to 32 threads\n"
     ]
    },
    {
     "name": "stdout",
     "output_type": "stream",
     "text": [
      "Optimize a model with 761 rows, 1068 columns and 6835 nonzeros\n"
     ]
    },
    {
     "name": "stderr",
     "output_type": "stream",
     "text": [
      "INFO:gurobipy.gurobipy:Optimize a model with 761 rows, 1068 columns and 6835 nonzeros\n"
     ]
    },
    {
     "name": "stdout",
     "output_type": "stream",
     "text": [
      "Model fingerprint: 0x41abf6dd\n"
     ]
    },
    {
     "name": "stderr",
     "output_type": "stream",
     "text": [
      "INFO:gurobipy.gurobipy:Model fingerprint: 0x41abf6dd\n"
     ]
    },
    {
     "name": "stdout",
     "output_type": "stream",
     "text": [
      "Model has 1236 quadratic objective terms\n"
     ]
    },
    {
     "name": "stderr",
     "output_type": "stream",
     "text": [
      "INFO:gurobipy.gurobipy:Model has 1236 quadratic objective terms\n"
     ]
    },
    {
     "name": "stdout",
     "output_type": "stream",
     "text": [
      "Model has 4 quadratic constraints\n"
     ]
    },
    {
     "name": "stderr",
     "output_type": "stream",
     "text": [
      "INFO:gurobipy.gurobipy:Model has 4 quadratic constraints\n"
     ]
    },
    {
     "name": "stdout",
     "output_type": "stream",
     "text": [
      "Model has 1 general constraint\n"
     ]
    },
    {
     "name": "stderr",
     "output_type": "stream",
     "text": [
      "INFO:gurobipy.gurobipy:Model has 1 general constraint\n"
     ]
    },
    {
     "name": "stdout",
     "output_type": "stream",
     "text": [
      "Variable types: 6 continuous, 1062 integer (1000 binary)\n"
     ]
    },
    {
     "name": "stderr",
     "output_type": "stream",
     "text": [
      "INFO:gurobipy.gurobipy:Variable types: 6 continuous, 1062 integer (1000 binary)\n"
     ]
    },
    {
     "name": "stdout",
     "output_type": "stream",
     "text": [
      "Coefficient statistics:\n"
     ]
    },
    {
     "name": "stderr",
     "output_type": "stream",
     "text": [
      "INFO:gurobipy.gurobipy:Coefficient statistics:\n"
     ]
    },
    {
     "name": "stdout",
     "output_type": "stream",
     "text": [
      "  Matrix range     [1e+00, 4e+00]\n"
     ]
    },
    {
     "name": "stderr",
     "output_type": "stream",
     "text": [
      "INFO:gurobipy.gurobipy:  Matrix range     [1e+00, 4e+00]\n"
     ]
    },
    {
     "name": "stdout",
     "output_type": "stream",
     "text": [
      "  QMatrix range    [1e+00, 3e+00]\n"
     ]
    },
    {
     "name": "stderr",
     "output_type": "stream",
     "text": [
      "INFO:gurobipy.gurobipy:  QMatrix range    [1e+00, 3e+00]\n"
     ]
    },
    {
     "name": "stdout",
     "output_type": "stream",
     "text": [
      "  QLMatrix range   [1e+00, 8e+00]\n"
     ]
    },
    {
     "name": "stderr",
     "output_type": "stream",
     "text": [
      "INFO:gurobipy.gurobipy:  QLMatrix range   [1e+00, 8e+00]\n"
     ]
    },
    {
     "name": "stdout",
     "output_type": "stream",
     "text": [
      "  Objective range  [1e+00, 4e+01]\n"
     ]
    },
    {
     "name": "stderr",
     "output_type": "stream",
     "text": [
      "INFO:gurobipy.gurobipy:  Objective range  [1e+00, 4e+01]\n"
     ]
    },
    {
     "name": "stdout",
     "output_type": "stream",
     "text": [
      "  QObjective range [4e-01, 6e+00]\n"
     ]
    },
    {
     "name": "stderr",
     "output_type": "stream",
     "text": [
      "INFO:gurobipy.gurobipy:  QObjective range [4e-01, 6e+00]\n"
     ]
    },
    {
     "name": "stdout",
     "output_type": "stream",
     "text": [
      "  Bounds range     [1e+00, 1e+00]\n"
     ]
    },
    {
     "name": "stderr",
     "output_type": "stream",
     "text": [
      "INFO:gurobipy.gurobipy:  Bounds range     [1e+00, 1e+00]\n"
     ]
    },
    {
     "name": "stdout",
     "output_type": "stream",
     "text": [
      "  RHS range        [1e+00, 2e+01]\n"
     ]
    },
    {
     "name": "stderr",
     "output_type": "stream",
     "text": [
      "INFO:gurobipy.gurobipy:  RHS range        [1e+00, 2e+01]\n"
     ]
    },
    {
     "name": "stdout",
     "output_type": "stream",
     "text": [
      "  QRHS range       [1e+01, 1e+01]\n"
     ]
    },
    {
     "name": "stderr",
     "output_type": "stream",
     "text": [
      "INFO:gurobipy.gurobipy:  QRHS range       [1e+01, 1e+01]\n"
     ]
    },
    {
     "name": "stdout",
     "output_type": "stream",
     "text": [
      "Presolve removed 585 rows and 139 columns\n"
     ]
    },
    {
     "name": "stderr",
     "output_type": "stream",
     "text": [
      "INFO:gurobipy.gurobipy:Presolve removed 585 rows and 139 columns\n"
     ]
    },
    {
     "name": "stdout",
     "output_type": "stream",
     "text": [
      "Presolve time: 0.02s\n"
     ]
    },
    {
     "name": "stderr",
     "output_type": "stream",
     "text": [
      "INFO:gurobipy.gurobipy:Presolve time: 0.02s\n"
     ]
    },
    {
     "name": "stdout",
     "output_type": "stream",
     "text": [
      "Presolved: 3868 rows, 2159 columns, 13132 nonzeros\n"
     ]
    },
    {
     "name": "stderr",
     "output_type": "stream",
     "text": [
      "INFO:gurobipy.gurobipy:Presolved: 3868 rows, 2159 columns, 13132 nonzeros\n"
     ]
    },
    {
     "name": "stdout",
     "output_type": "stream",
     "text": [
      "Variable types: 2 continuous, 2157 integer (2156 binary)\n"
     ]
    },
    {
     "name": "stderr",
     "output_type": "stream",
     "text": [
      "INFO:gurobipy.gurobipy:Variable types: 2 continuous, 2157 integer (2156 binary)\n"
     ]
    },
    {
     "name": "stdout",
     "output_type": "stream",
     "text": [
      "Found heuristic solution: objective 268.6295123\n"
     ]
    },
    {
     "name": "stderr",
     "output_type": "stream",
     "text": [
      "INFO:gurobipy.gurobipy:Found heuristic solution: objective 268.6295123\n"
     ]
    },
    {
     "name": "stdout",
     "output_type": "stream",
     "text": [
      "\n"
     ]
    },
    {
     "name": "stderr",
     "output_type": "stream",
     "text": [
      "INFO:gurobipy.gurobipy:\n"
     ]
    },
    {
     "name": "stdout",
     "output_type": "stream",
     "text": [
      "Root relaxation: objective 2.199096e+02, 174 iterations, 0.00 seconds (0.00 work units)\n"
     ]
    },
    {
     "name": "stderr",
     "output_type": "stream",
     "text": [
      "INFO:gurobipy.gurobipy:Root relaxation: objective 2.199096e+02, 174 iterations, 0.00 seconds (0.00 work units)\n"
     ]
    },
    {
     "name": "stdout",
     "output_type": "stream",
     "text": [
      "\n"
     ]
    },
    {
     "name": "stderr",
     "output_type": "stream",
     "text": [
      "INFO:gurobipy.gurobipy:\n"
     ]
    },
    {
     "name": "stdout",
     "output_type": "stream",
     "text": [
      "    Nodes    |    Current Node    |     Objective Bounds      |     Work\n"
     ]
    },
    {
     "name": "stderr",
     "output_type": "stream",
     "text": [
      "INFO:gurobipy.gurobipy:    Nodes    |    Current Node    |     Objective Bounds      |     Work\n"
     ]
    },
    {
     "name": "stdout",
     "output_type": "stream",
     "text": [
      " Expl Unexpl |  Obj  Depth IntInf | Incumbent    BestBd   Gap | It/Node Time\n"
     ]
    },
    {
     "name": "stderr",
     "output_type": "stream",
     "text": [
      "INFO:gurobipy.gurobipy: Expl Unexpl |  Obj  Depth IntInf | Incumbent    BestBd   Gap | It/Node Time\n"
     ]
    },
    {
     "name": "stdout",
     "output_type": "stream",
     "text": [
      "\n"
     ]
    },
    {
     "name": "stderr",
     "output_type": "stream",
     "text": [
      "INFO:gurobipy.gurobipy:\n"
     ]
    },
    {
     "name": "stdout",
     "output_type": "stream",
     "text": [
      "     0     0  219.90961    0    6  268.62951  219.90961  18.1%     -    0s\n"
     ]
    },
    {
     "name": "stderr",
     "output_type": "stream",
     "text": [
      "INFO:gurobipy.gurobipy:     0     0  219.90961    0    6  268.62951  219.90961  18.1%     -    0s\n"
     ]
    },
    {
     "name": "stdout",
     "output_type": "stream",
     "text": [
      "H    0     0                     219.9896431  219.90961  0.04%     -    0s\n"
     ]
    },
    {
     "name": "stderr",
     "output_type": "stream",
     "text": [
      "INFO:gurobipy.gurobipy:H    0     0                     219.9896431  219.90961  0.04%     -    0s\n"
     ]
    },
    {
     "name": "stdout",
     "output_type": "stream",
     "text": [
      "*    0     0               0     219.9703786  219.97038  0.00%     -    0s\n"
     ]
    },
    {
     "name": "stderr",
     "output_type": "stream",
     "text": [
      "INFO:gurobipy.gurobipy:*    0     0               0     219.9703786  219.97038  0.00%     -    0s\n"
     ]
    },
    {
     "name": "stdout",
     "output_type": "stream",
     "text": [
      "\n"
     ]
    },
    {
     "name": "stderr",
     "output_type": "stream",
     "text": [
      "INFO:gurobipy.gurobipy:\n"
     ]
    },
    {
     "name": "stdout",
     "output_type": "stream",
     "text": [
      "Cutting planes:\n"
     ]
    },
    {
     "name": "stderr",
     "output_type": "stream",
     "text": [
      "INFO:gurobipy.gurobipy:Cutting planes:\n"
     ]
    },
    {
     "name": "stdout",
     "output_type": "stream",
     "text": [
      "  Gomory: 1\n"
     ]
    },
    {
     "name": "stderr",
     "output_type": "stream",
     "text": [
      "INFO:gurobipy.gurobipy:  Gomory: 1\n"
     ]
    },
    {
     "name": "stdout",
     "output_type": "stream",
     "text": [
      "  Cover: 1\n"
     ]
    },
    {
     "name": "stderr",
     "output_type": "stream",
     "text": [
      "INFO:gurobipy.gurobipy:  Cover: 1\n"
     ]
    },
    {
     "name": "stdout",
     "output_type": "stream",
     "text": [
      "  MIR: 2\n"
     ]
    },
    {
     "name": "stderr",
     "output_type": "stream",
     "text": [
      "INFO:gurobipy.gurobipy:  MIR: 2\n"
     ]
    },
    {
     "name": "stdout",
     "output_type": "stream",
     "text": [
      "  StrongCG: 1\n"
     ]
    },
    {
     "name": "stderr",
     "output_type": "stream",
     "text": [
      "INFO:gurobipy.gurobipy:  StrongCG: 1\n"
     ]
    },
    {
     "name": "stdout",
     "output_type": "stream",
     "text": [
      "\n"
     ]
    },
    {
     "name": "stderr",
     "output_type": "stream",
     "text": [
      "INFO:gurobipy.gurobipy:\n"
     ]
    },
    {
     "name": "stdout",
     "output_type": "stream",
     "text": [
      "Explored 1 nodes (187 simplex iterations) in 0.11 seconds (0.06 work units)\n"
     ]
    },
    {
     "name": "stderr",
     "output_type": "stream",
     "text": [
      "INFO:gurobipy.gurobipy:Explored 1 nodes (187 simplex iterations) in 0.11 seconds (0.06 work units)\n"
     ]
    },
    {
     "name": "stdout",
     "output_type": "stream",
     "text": [
      "Thread count was 32 (of 32 available processors)\n"
     ]
    },
    {
     "name": "stderr",
     "output_type": "stream",
     "text": [
      "INFO:gurobipy.gurobipy:Thread count was 32 (of 32 available processors)\n"
     ]
    },
    {
     "name": "stdout",
     "output_type": "stream",
     "text": [
      "\n"
     ]
    },
    {
     "name": "stderr",
     "output_type": "stream",
     "text": [
      "INFO:gurobipy.gurobipy:\n"
     ]
    },
    {
     "name": "stdout",
     "output_type": "stream",
     "text": [
      "Solution count 3: 219.97 219.99 268.63 \n"
     ]
    },
    {
     "name": "stderr",
     "output_type": "stream",
     "text": [
      "INFO:gurobipy.gurobipy:Solution count 3: 219.97 219.99 268.63 \n"
     ]
    },
    {
     "name": "stdout",
     "output_type": "stream",
     "text": [
      "\n"
     ]
    },
    {
     "name": "stderr",
     "output_type": "stream",
     "text": [
      "INFO:gurobipy.gurobipy:\n"
     ]
    },
    {
     "name": "stdout",
     "output_type": "stream",
     "text": [
      "Optimal solution found (tolerance 1.00e-04)\n"
     ]
    },
    {
     "name": "stderr",
     "output_type": "stream",
     "text": [
      "INFO:gurobipy.gurobipy:Optimal solution found (tolerance 1.00e-04)\n"
     ]
    },
    {
     "name": "stdout",
     "output_type": "stream",
     "text": [
      "Best objective 2.199703785977e+02, best bound 2.199703785977e+02, gap 0.0000%\n"
     ]
    },
    {
     "name": "stderr",
     "output_type": "stream",
     "text": [
      "INFO:gurobipy.gurobipy:Best objective 2.199703785977e+02, best bound 2.199703785977e+02, gap 0.0000%\n"
     ]
    },
    {
     "name": "stdout",
     "output_type": "stream",
     "text": [
      "['i', 'j', 'ko', 'ki', 'l', 'm', 'n', 'o']\n",
      "['i', 'j', 'ko', 'lo', 'li', 'm', 'n', 'o', 'ki']\n",
      "['i', 'j', 'ko', 'lo', 'm', 'no', 'ni', 'o', 'ki', 'li']\n",
      "['i', 'j', 'koo', 'koi', 'lo', 'm', 'no', 'o', 'ki', 'li', 'ni']\n",
      "['i', 'j', 'koo', 'loo', 'loi', 'm', 'no', 'o', 'ki', 'li', 'ni', 'koi']\n",
      "['i', 'j', 'koo', 'loo', 'm', 'noo', 'noi', 'o', 'ki', 'li', 'ni', 'koi', 'loi']\n",
      "['i', 'j', 'kooo', 'kooi', 'loo', 'm', 'noo', 'o', 'ki', 'li', 'ni', 'koi', 'loi', 'noi']\n",
      "['i', 'j', 'kooo', 'looo', 'looi', 'm', 'noo', 'o', 'ki', 'li', 'ni', 'koi', 'loi', 'noi', 'kooi']\n",
      "['i', 'j', 'kooo', 'looo', 'm', 'nooo', 'nooi', 'o', 'ki', 'li', 'ni', 'koi', 'loi', 'noi', 'kooi', 'looi']\n",
      "['i', 'j', 'koooo', 'koooi', 'looo', 'm', 'nooo', 'o', 'ki', 'li', 'ni', 'koi', 'loi', 'noi', 'kooi', 'looi', 'nooi']\n",
      "['i', 'j', 'koooo', 'loooo', 'loooi', 'm', 'nooo', 'o', 'ki', 'li', 'ni', 'koi', 'loi', 'noi', 'kooi', 'looi', 'nooi', 'koooi']\n",
      "['i', 'j', 'koooo', 'loooo', 'm', 'noooo', 'noooi', 'o', 'ki', 'li', 'ni', 'koi', 'loi', 'noi', 'kooi', 'looi', 'nooi', 'koooi', 'loooi']\n",
      "['i', 'j', 'koooo', 'loooo', 'm', 'nooooo', 'nooooi', 'o', 'ki', 'li', 'ni', 'koi', 'loi', 'noi', 'kooi', 'looi', 'nooi', 'koooi', 'loooi', 'noooi']\n"
     ]
    }
   ],
   "source": [
    "import src.matmap.transforms.CoSATransform as cs\n",
    "import src.matmap.qast_utils.loopReader as lr\n",
    "sg = lr.__debug_new_sgemm2()\n",
    "sg = sg.partial_eval(7,7,112,112,3,64,1)\n",
    "\n",
    "print(sg)\n",
    "\n",
    "y = cs.CoSATransform(\"#input params\",sg)\n",
    "obj = y.apply(sg)"
   ]
  },
  {
   "cell_type": "code",
   "execution_count": 2,
   "id": "11d7e174",
   "metadata": {},
   "outputs": [
    {
     "name": "stdout",
     "output_type": "stream",
     "text": [
      "def sgemm_full(X: f32[7, 7] @ DRAM, A: f32[7, 112] @ DRAM,\n",
      "               B: f32[112, 7] @ DRAM):\n",
      "    for i in par(0, 7):\n",
      "        for j in par(0, 7):\n",
      "            for koooo in par(0, 7):\n",
      "                for loooo in par(0, 7):\n",
      "                    for m in par(0, 3):\n",
      "                        for nooooo in par(0, 2):\n",
      "                            for o in par(0, 1):\n",
      "                                for ki in par(0, 2):\n",
      "                                    for li in par(0, 2):\n",
      "                                        for ni in par(0, 2):\n",
      "                                            for koi in par(0, 2):\n",
      "                                                for loi in par(0, 2):\n",
      "                                                    for noi in par(0, 2):\n",
      "                                                        for kooi in par(0, 2):\n",
      "                                                            for looi in par(\n",
      "                                                                    0, 2):\n",
      "                                                                for nooi in par(\n",
      "                                                                        0, 2):\n",
      "                                                                    for koooi in par(\n",
      "                                                                            0,\n",
      "                                                                            2):\n",
      "                                                                        for loooi in par(\n",
      "                                                                                0,\n",
      "                                                                                2\n",
      "                                                                        ):\n",
      "                                                                            for noooi in par(\n",
      "                                                                                    0,\n",
      "                                                                                    2\n",
      "                                                                            ):\n",
      "                                                                                for nooooi in par(\n",
      "                                                                                        0,\n",
      "                                                                                        2\n",
      "                                                                                ):\n",
      "                                                                                    X[i, j] += A[\n",
      "                                                                                        i,\n",
      "                                                                                        2\n",
      "                                                                                        *\n",
      "                                                                                        (2 *\n",
      "                                                                                         (2 *\n",
      "                                                                                          (2 *\n",
      "                                                                                           koooo\n",
      "                                                                                           + koooi\n",
      "                                                                                           )\n",
      "                                                                                          +\n",
      "                                                                                          kooi\n",
      "                                                                                          )\n",
      "                                                                                         +\n",
      "                                                                                         koi\n",
      "                                                                                         )\n",
      "                                                                                        +\n",
      "                                                                                        ki] * B[2 * (\n",
      "                                                                                            2 *\n",
      "                                                                                            (2 *\n",
      "                                                                                             (2 *\n",
      "                                                                                              koooo\n",
      "                                                                                              + koooi\n",
      "                                                                                              )\n",
      "                                                                                             +\n",
      "                                                                                             kooi\n",
      "                                                                                             )\n",
      "                                                                                            +\n",
      "                                                                                            koi\n",
      "                                                                                        ) + ki, j]\n",
      "\n"
     ]
    }
   ],
   "source": [
    "print(obj)"
   ]
  },
  {
   "cell_type": "code",
   "execution_count": 3,
   "id": "81d1f397",
   "metadata": {},
   "outputs": [
    {
     "data": {
      "text/plain": [
       "[<matmap.transforms.ReorderingTransform.ReorderingTransform at 0x7f6eaa2660a0>,\n",
       " <matmap.transforms.TilingTransform.TilingTransform at 0x7f6eab344280>,\n",
       " <matmap.transforms.TilingTransform.TilingTransform at 0x7f6eab344ac0>,\n",
       " <matmap.transforms.TilingTransform.TilingTransform at 0x7f6eab344bb0>,\n",
       " <matmap.transforms.TilingTransform.TilingTransform at 0x7f6eab33fd60>,\n",
       " <matmap.transforms.TilingTransform.TilingTransform at 0x7f6eb40198e0>,\n",
       " <matmap.transforms.TilingTransform.TilingTransform at 0x7f6eaa266340>]"
      ]
     },
     "execution_count": 3,
     "metadata": {},
     "output_type": "execute_result"
    }
   ],
   "source": [
    "y.subschedules"
   ]
  },
  {
   "cell_type": "code",
   "execution_count": null,
   "id": "ed982234",
   "metadata": {},
   "outputs": [],
   "source": []
  }
 ],
 "metadata": {
  "kernelspec": {
   "display_name": "matmap",
   "language": "python",
   "name": "matmap"
  },
  "language_info": {
   "codemirror_mode": {
    "name": "ipython",
    "version": 3
   },
   "file_extension": ".py",
   "mimetype": "text/x-python",
   "name": "python",
   "nbconvert_exporter": "python",
   "pygments_lexer": "ipython3",
   "version": "3.9.7"
  }
 },
 "nbformat": 4,
 "nbformat_minor": 5
}
